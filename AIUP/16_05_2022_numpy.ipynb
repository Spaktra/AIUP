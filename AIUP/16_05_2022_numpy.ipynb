{
 "cells": [
  {
   "cell_type": "code",
   "execution_count": 3,
   "id": "0a440d8a",
   "metadata": {},
   "outputs": [],
   "source": [
    "from numpy import *\n",
    "import time"
   ]
  },
  {
   "cell_type": "code",
   "execution_count": 2,
   "id": "c1fe140f",
   "metadata": {},
   "outputs": [
    {
     "data": {
      "text/plain": [
       "3.5269992351531982"
      ]
     },
     "execution_count": 2,
     "metadata": {},
     "output_type": "execute_result"
    }
   ],
   "source": [
    "def trad_version():\n",
    "    t1 = time.time()\n",
    "    X = range(10000000)\n",
    "    Y = range(10000000)\n",
    "    Z = []\n",
    "    for i in range(len(X)):\n",
    "        Z.append(X[i] + Y[i])\n",
    "        \n",
    "    return time.time() - t1\n",
    "\n",
    "trad_version()\n"
   ]
  },
  {
   "cell_type": "code",
   "execution_count": 3,
   "id": "dc774692",
   "metadata": {},
   "outputs": [
    {
     "data": {
      "text/plain": [
       "0.04295158386230469"
      ]
     },
     "execution_count": 3,
     "metadata": {},
     "output_type": "execute_result"
    }
   ],
   "source": [
    "def numpy_version():\n",
    "    \n",
    "    t1 = time.time()\n",
    "    X = arange(10000000)\n",
    "    Y = arange(10000000)\n",
    "    Z = X + Y\n",
    "    \n",
    "    return time.time() - t1\n",
    "\n",
    "numpy_version()"
   ]
  },
  {
   "cell_type": "code",
   "execution_count": 5,
   "id": "d31c9ddd",
   "metadata": {},
   "outputs": [],
   "source": [
    "import numpy as np\n",
    "import warnings\n",
    "warnings.filterwarnings(\"ignore\")\n"
   ]
  },
  {
   "cell_type": "code",
   "execution_count": 5,
   "id": "0f211082",
   "metadata": {},
   "outputs": [
    {
     "data": {
      "text/plain": [
       "[10, 20, 30, 40, 50, 60]"
      ]
     },
     "execution_count": 5,
     "metadata": {},
     "output_type": "execute_result"
    }
   ],
   "source": [
    "list1 = [10,20,30,40,50,60]\n",
    "list1"
   ]
  },
  {
   "cell_type": "code",
   "execution_count": 7,
   "id": "138f06c6",
   "metadata": {},
   "outputs": [
    {
     "data": {
      "text/plain": [
       "list"
      ]
     },
     "execution_count": 7,
     "metadata": {},
     "output_type": "execute_result"
    }
   ],
   "source": [
    "type(list1)"
   ]
  },
  {
   "cell_type": "code",
   "execution_count": 10,
   "id": "6cdfd45e",
   "metadata": {},
   "outputs": [
    {
     "data": {
      "text/plain": [
       "array([10, 20, 30, 40, 50, 60])"
      ]
     },
     "execution_count": 10,
     "metadata": {},
     "output_type": "execute_result"
    }
   ],
   "source": [
    "arr1 = np.array(list1)\n",
    "arr1"
   ]
  },
  {
   "cell_type": "code",
   "execution_count": 11,
   "id": "11c1e48d",
   "metadata": {},
   "outputs": [
    {
     "data": {
      "text/plain": [
       "numpy.ndarray"
      ]
     },
     "execution_count": 11,
     "metadata": {},
     "output_type": "execute_result"
    }
   ],
   "source": [
    "type(arr1)"
   ]
  },
  {
   "cell_type": "code",
   "execution_count": 12,
   "id": "6535b4ae",
   "metadata": {},
   "outputs": [
    {
     "data": {
      "text/plain": [
       "<memory at 0x000001E6E5620040>"
      ]
     },
     "execution_count": 12,
     "metadata": {},
     "output_type": "execute_result"
    }
   ],
   "source": [
    "arr1.data"
   ]
  },
  {
   "cell_type": "code",
   "execution_count": 13,
   "id": "65957042",
   "metadata": {},
   "outputs": [
    {
     "data": {
      "text/plain": [
       "dtype('int32')"
      ]
     },
     "execution_count": 13,
     "metadata": {},
     "output_type": "execute_result"
    }
   ],
   "source": [
    "arr1.dtype"
   ]
  },
  {
   "cell_type": "code",
   "execution_count": 14,
   "id": "b90dfe37",
   "metadata": {},
   "outputs": [
    {
     "data": {
      "text/plain": [
       "array([10., 20., 30., 40., 50., 60.])"
      ]
     },
     "execution_count": 14,
     "metadata": {},
     "output_type": "execute_result"
    }
   ],
   "source": [
    "arr1.astype(float)"
   ]
  },
  {
   "cell_type": "code",
   "execution_count": 16,
   "id": "27990339",
   "metadata": {},
   "outputs": [
    {
     "data": {
      "text/plain": [
       "array([0, 1, 2, 3, 4, 5, 6, 7, 8, 9])"
      ]
     },
     "execution_count": 16,
     "metadata": {},
     "output_type": "execute_result"
    }
   ],
   "source": [
    "np.arange(0,10)"
   ]
  },
  {
   "cell_type": "code",
   "execution_count": 18,
   "id": "403b14ed",
   "metadata": {},
   "outputs": [
    {
     "data": {
      "text/plain": [
       "array([ 0, 10, 20, 30, 40, 50, 60, 70, 80, 90])"
      ]
     },
     "execution_count": 18,
     "metadata": {},
     "output_type": "execute_result"
    }
   ],
   "source": [
    "np.arange(0,100,10)"
   ]
  },
  {
   "cell_type": "code",
   "execution_count": 19,
   "id": "057e3b46",
   "metadata": {},
   "outputs": [
    {
     "data": {
      "text/plain": [
       "array([100,  90,  80,  70,  60,  50,  40,  30,  20])"
      ]
     },
     "execution_count": 19,
     "metadata": {},
     "output_type": "execute_result"
    }
   ],
   "source": [
    "np.arange(100,10,-10)"
   ]
  },
  {
   "cell_type": "code",
   "execution_count": 20,
   "id": "f6b0de45",
   "metadata": {},
   "outputs": [
    {
     "data": {
      "text/plain": [
       "(10,)"
      ]
     },
     "execution_count": 20,
     "metadata": {},
     "output_type": "execute_result"
    }
   ],
   "source": [
    "arr3 = np.arange(0,10)\n",
    "arr3.shape"
   ]
  },
  {
   "cell_type": "code",
   "execution_count": 21,
   "id": "d1b9d9a7",
   "metadata": {},
   "outputs": [
    {
     "data": {
      "text/plain": [
       "10"
      ]
     },
     "execution_count": 21,
     "metadata": {},
     "output_type": "execute_result"
    }
   ],
   "source": [
    "arr3.size"
   ]
  },
  {
   "cell_type": "code",
   "execution_count": 22,
   "id": "5e5f3311",
   "metadata": {},
   "outputs": [
    {
     "data": {
      "text/plain": [
       "4"
      ]
     },
     "execution_count": 22,
     "metadata": {},
     "output_type": "execute_result"
    }
   ],
   "source": [
    "arr3.itemsize"
   ]
  },
  {
   "cell_type": "code",
   "execution_count": 23,
   "id": "c4e1d463",
   "metadata": {},
   "outputs": [
    {
     "data": {
      "text/plain": [
       "dtype('int32')"
      ]
     },
     "execution_count": 23,
     "metadata": {},
     "output_type": "execute_result"
    }
   ],
   "source": [
    "arr3.dtype"
   ]
  },
  {
   "cell_type": "code",
   "execution_count": 24,
   "id": "a6725125",
   "metadata": {},
   "outputs": [
    {
     "data": {
      "text/plain": [
       "40"
      ]
     },
     "execution_count": 24,
     "metadata": {},
     "output_type": "execute_result"
    }
   ],
   "source": [
    "arr3.nbytes"
   ]
  },
  {
   "cell_type": "code",
   "execution_count": 25,
   "id": "6376c274",
   "metadata": {},
   "outputs": [
    {
     "data": {
      "text/plain": [
       "array([0., 0., 0., 0., 0., 0., 0., 0., 0., 0.])"
      ]
     },
     "execution_count": 25,
     "metadata": {},
     "output_type": "execute_result"
    }
   ],
   "source": [
    "np.zeros(10)"
   ]
  },
  {
   "cell_type": "code",
   "execution_count": 26,
   "id": "fe59b5f4",
   "metadata": {},
   "outputs": [
    {
     "data": {
      "text/plain": [
       "array([1., 1., 1., 1., 1., 1., 1., 1., 1., 1.])"
      ]
     },
     "execution_count": 26,
     "metadata": {},
     "output_type": "execute_result"
    }
   ],
   "source": [
    "np.ones(10)"
   ]
  },
  {
   "cell_type": "code",
   "execution_count": 27,
   "id": "25823309",
   "metadata": {},
   "outputs": [
    {
     "data": {
      "text/plain": [
       "array([10, 10, 10, 10, 10])"
      ]
     },
     "execution_count": 27,
     "metadata": {},
     "output_type": "execute_result"
    }
   ],
   "source": [
    "np.repeat(10,5)"
   ]
  },
  {
   "cell_type": "code",
   "execution_count": 15,
   "id": "95cf9d0c",
   "metadata": {},
   "outputs": [
    {
     "data": {
      "text/plain": [
       "array([10, 10, 10, 20, 20, 20, 30, 30, 30])"
      ]
     },
     "execution_count": 15,
     "metadata": {},
     "output_type": "execute_result"
    }
   ],
   "source": [
    "a = np.array([10,20,30])\n",
    "np.repeat(a,3)"
   ]
  },
  {
   "cell_type": "code",
   "execution_count": 29,
   "id": "59413bf2",
   "metadata": {},
   "outputs": [
    {
     "data": {
      "text/plain": [
       "array([10, 10, 10, 10, 10])"
      ]
     },
     "execution_count": 29,
     "metadata": {},
     "output_type": "execute_result"
    }
   ],
   "source": [
    "np.full(5,10)"
   ]
  },
  {
   "cell_type": "code",
   "execution_count": 31,
   "id": "0881d2cd",
   "metadata": {},
   "outputs": [
    {
     "data": {
      "text/plain": [
       "array([ 1,  3,  5,  7,  9, 11, 13, 15, 17, 19])"
      ]
     },
     "execution_count": 31,
     "metadata": {},
     "output_type": "execute_result"
    }
   ],
   "source": [
    "ar1 = np.arange(1,20)\n",
    "ar1[ar1 % 2 == 1]"
   ]
  },
  {
   "cell_type": "code",
   "execution_count": 33,
   "id": "50718364",
   "metadata": {},
   "outputs": [
    {
     "data": {
      "text/plain": [
       "array([ 2,  4,  6,  8, 10, 12, 14, 16, 18])"
      ]
     },
     "execution_count": 33,
     "metadata": {},
     "output_type": "execute_result"
    }
   ],
   "source": [
    "ar1 = np.arange(1,20)\n",
    "ar1[ar1 % 2 == 0]"
   ]
  },
  {
   "cell_type": "code",
   "execution_count": 36,
   "id": "24864d91",
   "metadata": {},
   "outputs": [
    {
     "data": {
      "text/plain": [
       "array([10.        , 13.33333333, 16.66666667, 20.        ])"
      ]
     },
     "execution_count": 36,
     "metadata": {},
     "output_type": "execute_result"
    }
   ],
   "source": [
    "np.linspace(10,20,4)"
   ]
  },
  {
   "cell_type": "code",
   "execution_count": 37,
   "id": "cf807289",
   "metadata": {},
   "outputs": [
    {
     "data": {
      "text/plain": [
       "array([0.54955509, 0.10910526, 0.67671114, 0.68768051])"
      ]
     },
     "execution_count": 37,
     "metadata": {},
     "output_type": "execute_result"
    }
   ],
   "source": [
    "  np.random.random(4)"
   ]
  },
  {
   "cell_type": "code",
   "execution_count": 38,
   "id": "c3be0971",
   "metadata": {},
   "outputs": [
    {
     "data": {
      "text/plain": [
       "array([296, 339, 322, 370, 115])"
      ]
     },
     "execution_count": 38,
     "metadata": {},
     "output_type": "execute_result"
    }
   ],
   "source": [
    "np.random.randint(0,500,5)"
   ]
  },
  {
   "cell_type": "code",
   "execution_count": 41,
   "id": "4c18ac0f",
   "metadata": {},
   "outputs": [
    {
     "data": {
      "text/plain": [
       "array([66, 92, 98, 17, 83, 57, 86, 97, 96, 47])"
      ]
     },
     "execution_count": 41,
     "metadata": {},
     "output_type": "execute_result"
    }
   ],
   "source": [
    "np.random.seed(123)\n",
    "np.random.randint(0,100,10)"
   ]
  },
  {
   "cell_type": "code",
   "execution_count": 42,
   "id": "efe26acf",
   "metadata": {},
   "outputs": [
    {
     "data": {
      "text/plain": [
       "array([95, 11, 81, 70, 63, 87, 75,  9, 77, 40])"
      ]
     },
     "execution_count": 42,
     "metadata": {},
     "output_type": "execute_result"
    }
   ],
   "source": [
    "np.random.seed(101)\n",
    "np.random.randint(0,100,10)"
   ]
  },
  {
   "cell_type": "code",
   "execution_count": 43,
   "id": "2610c9e1",
   "metadata": {},
   "outputs": [
    {
     "data": {
      "text/plain": [
       "array([95, 11, 81, 70, 63, 87, 75,  9, 77, 40])"
      ]
     },
     "execution_count": 43,
     "metadata": {},
     "output_type": "execute_result"
    }
   ],
   "source": [
    "np.random.seed(101)\n",
    "np.random.randint(0,100,10)"
   ]
  },
  {
   "cell_type": "code",
   "execution_count": 45,
   "id": "9dc47385",
   "metadata": {},
   "outputs": [
    {
     "data": {
      "text/plain": [
       "array([6.5348311 , 9.4680654 , 8.60771931, 5.94969477, 7.77113796,\n",
       "       6.76065977, 5.90946201, 8.92800881, 9.82741611, 6.16176831])"
      ]
     },
     "execution_count": 45,
     "metadata": {},
     "output_type": "execute_result"
    }
   ],
   "source": [
    "f1 = np.random.uniform(5, 10, size = (10))\n",
    "f1"
   ]
  },
  {
   "cell_type": "code",
   "execution_count": 46,
   "id": "cf6761fa",
   "metadata": {},
   "outputs": [
    {
     "data": {
      "text/plain": [
       "array([6., 9., 8., 5., 7., 6., 5., 8., 9., 6.])"
      ]
     },
     "execution_count": 46,
     "metadata": {},
     "output_type": "execute_result"
    }
   ],
   "source": [
    "np.floor(f1)"
   ]
  },
  {
   "cell_type": "code",
   "execution_count": 47,
   "id": "9b3ba22f",
   "metadata": {},
   "outputs": [
    {
     "data": {
      "text/plain": [
       "array([6, 9, 8, 5, 7, 6, 5, 8, 9, 6])"
      ]
     },
     "execution_count": 47,
     "metadata": {},
     "output_type": "execute_result"
    }
   ],
   "source": [
    "f1.astype(int)"
   ]
  },
  {
   "cell_type": "code",
   "execution_count": 48,
   "id": "f863bf4c",
   "metadata": {},
   "outputs": [
    {
     "data": {
      "text/plain": [
       "array([ 0.18869531, -0.75887206, -0.93323722,  0.95505651,  0.19079432,\n",
       "        1.97875732,  2.60596728,  0.68350889,  0.30266545,  1.69372293])"
      ]
     },
     "execution_count": 48,
     "metadata": {},
     "output_type": "execute_result"
    }
   ],
   "source": [
    "b2 = np.random.randn(10)\n",
    "b2"
   ]
  },
  {
   "cell_type": "code",
   "execution_count": 49,
   "id": "9808e404",
   "metadata": {},
   "outputs": [
    {
     "data": {
      "text/plain": [
       "array([10, 20, 30, 40, 50, 60])"
      ]
     },
     "execution_count": 49,
     "metadata": {},
     "output_type": "execute_result"
    }
   ],
   "source": [
    "arr1"
   ]
  },
  {
   "cell_type": "code",
   "execution_count": 51,
   "id": "39ef38d6",
   "metadata": {},
   "outputs": [
    {
     "name": "stdout",
     "output_type": "stream",
     "text": [
      "(0,) 10\n",
      "(1,) 20\n",
      "(2,) 30\n",
      "(3,) 40\n",
      "(4,) 50\n",
      "(5,) 60\n"
     ]
    }
   ],
   "source": [
    "for index, value in np.ndenumerate(arr1):\n",
    "    print(index,value)"
   ]
  },
  {
   "cell_type": "code",
   "execution_count": 53,
   "id": "807faf8f",
   "metadata": {},
   "outputs": [
    {
     "data": {
      "text/plain": [
       "array([ 1,  2,  3,  4,  5,  6,  7,  8,  9, 10, 11, 12, 13, 14, 15, 16, 17,\n",
       "       18, 19])"
      ]
     },
     "execution_count": 53,
     "metadata": {},
     "output_type": "execute_result"
    }
   ],
   "source": [
    "arr2 = np.arange(1,20)\n",
    "arr2"
   ]
  },
  {
   "cell_type": "code",
   "execution_count": 54,
   "id": "f47b5c4f",
   "metadata": {},
   "outputs": [
    {
     "data": {
      "text/plain": [
       "190"
      ]
     },
     "execution_count": 54,
     "metadata": {},
     "output_type": "execute_result"
    }
   ],
   "source": [
    "arr2.sum()"
   ]
  },
  {
   "cell_type": "code",
   "execution_count": 55,
   "id": "7c366c50",
   "metadata": {},
   "outputs": [
    {
     "data": {
      "text/plain": [
       "array([  1,   3,   6,  10,  15,  21,  28,  36,  45,  55,  66,  78,  91,\n",
       "       105, 120, 136, 153, 171, 190], dtype=int32)"
      ]
     },
     "execution_count": 55,
     "metadata": {},
     "output_type": "execute_result"
    }
   ],
   "source": [
    "np.cumsum(arr2)"
   ]
  },
  {
   "cell_type": "code",
   "execution_count": 56,
   "id": "8eb1a3fe",
   "metadata": {},
   "outputs": [],
   "source": [
    "# min(), max(), argmin(), argmax(), mean(), median(), var()"
   ]
  },
  {
   "cell_type": "code",
   "execution_count": 57,
   "id": "7a9b493b",
   "metadata": {},
   "outputs": [
    {
     "data": {
      "text/plain": [
       "5.477225575051661"
      ]
     },
     "execution_count": 57,
     "metadata": {},
     "output_type": "execute_result"
    }
   ],
   "source": [
    "np.std(arr2)"
   ]
  },
  {
   "cell_type": "code",
   "execution_count": 60,
   "id": "0e20aa2c",
   "metadata": {},
   "outputs": [
    {
     "data": {
      "text/plain": [
       "array([[ 1,  2,  3,  0],\n",
       "       [ 5,  6,  7, 22],\n",
       "       [ 5, 23, 14, 55]])"
      ]
     },
     "execution_count": 60,
     "metadata": {},
     "output_type": "execute_result"
    }
   ],
   "source": [
    "a = np.array([[1,2,3,0],[5,6,7,22],[5,23,14,55]])\n",
    "a"
   ]
  },
  {
   "cell_type": "code",
   "execution_count": 61,
   "id": "f8f05ce2",
   "metadata": {},
   "outputs": [
    {
     "data": {
      "text/plain": [
       "143"
      ]
     },
     "execution_count": 61,
     "metadata": {},
     "output_type": "execute_result"
    }
   ],
   "source": [
    "a.sum()"
   ]
  },
  {
   "cell_type": "code",
   "execution_count": 63,
   "id": "c4090635",
   "metadata": {},
   "outputs": [
    {
     "data": {
      "text/plain": [
       "0"
      ]
     },
     "execution_count": 63,
     "metadata": {},
     "output_type": "execute_result"
    }
   ],
   "source": [
    "a.min()"
   ]
  },
  {
   "cell_type": "code",
   "execution_count": 64,
   "id": "cd157b3d",
   "metadata": {},
   "outputs": [
    {
     "data": {
      "text/plain": [
       "55"
      ]
     },
     "execution_count": 64,
     "metadata": {},
     "output_type": "execute_result"
    }
   ],
   "source": [
    "a.max()"
   ]
  },
  {
   "cell_type": "code",
   "execution_count": 66,
   "id": "3693a683",
   "metadata": {},
   "outputs": [
    {
     "data": {
      "text/plain": [
       "array([1, 2, 3, 0])"
      ]
     },
     "execution_count": 66,
     "metadata": {},
     "output_type": "execute_result"
    }
   ],
   "source": [
    "np.amin(a, axis = 0)"
   ]
  },
  {
   "cell_type": "code",
   "execution_count": 67,
   "id": "d27b999a",
   "metadata": {},
   "outputs": [
    {
     "data": {
      "text/plain": [
       "array([0, 5, 5])"
      ]
     },
     "execution_count": 67,
     "metadata": {},
     "output_type": "execute_result"
    }
   ],
   "source": [
    "np.amin(a, axis = 1)"
   ]
  },
  {
   "cell_type": "code",
   "execution_count": 68,
   "id": "68efc034",
   "metadata": {},
   "outputs": [
    {
     "name": "stdout",
     "output_type": "stream",
     "text": [
      "(0, 0) 1\n",
      "(0, 1) 2\n",
      "(0, 2) 3\n",
      "(0, 3) 0\n",
      "(1, 0) 5\n",
      "(1, 1) 6\n",
      "(1, 2) 7\n",
      "(1, 3) 22\n",
      "(2, 0) 5\n",
      "(2, 1) 23\n",
      "(2, 2) 14\n",
      "(2, 3) 55\n"
     ]
    }
   ],
   "source": [
    "for index, value in np.ndenumerate(a):\n",
    "    print(index,value)"
   ]
  },
  {
   "cell_type": "code",
   "execution_count": 69,
   "id": "1320df0c",
   "metadata": {},
   "outputs": [
    {
     "data": {
      "text/plain": [
       "7"
      ]
     },
     "execution_count": 69,
     "metadata": {},
     "output_type": "execute_result"
    }
   ],
   "source": [
    "a = np.array([7,5,3,9,0,2])\n",
    "a[0]"
   ]
  },
  {
   "cell_type": "code",
   "execution_count": 70,
   "id": "f31e3c35",
   "metadata": {},
   "outputs": [
    {
     "data": {
      "text/plain": [
       "array([5, 3, 9, 0, 2])"
      ]
     },
     "execution_count": 70,
     "metadata": {},
     "output_type": "execute_result"
    }
   ],
   "source": [
    "a[1:]"
   ]
  },
  {
   "cell_type": "code",
   "execution_count": 71,
   "id": "c937ade9",
   "metadata": {},
   "outputs": [
    {
     "data": {
      "text/plain": [
       "array([5, 3, 9])"
      ]
     },
     "execution_count": 71,
     "metadata": {},
     "output_type": "execute_result"
    }
   ],
   "source": [
    "a[1:4]"
   ]
  },
  {
   "cell_type": "code",
   "execution_count": 72,
   "id": "09755168",
   "metadata": {},
   "outputs": [
    {
     "data": {
      "text/plain": [
       "2"
      ]
     },
     "execution_count": 72,
     "metadata": {},
     "output_type": "execute_result"
    }
   ],
   "source": [
    "a[-1]"
   ]
  },
  {
   "cell_type": "code",
   "execution_count": 74,
   "id": "dec7bf19",
   "metadata": {},
   "outputs": [
    {
     "data": {
      "text/plain": [
       "array([9, 0])"
      ]
     },
     "execution_count": 74,
     "metadata": {},
     "output_type": "execute_result"
    }
   ],
   "source": [
    "a[-3:-1]"
   ]
  },
  {
   "cell_type": "code",
   "execution_count": 76,
   "id": "c077a8c6",
   "metadata": {},
   "outputs": [
    {
     "data": {
      "text/plain": [
       "array([ 1,  2,  3,  4,  5,  6,  7,  8,  9, 10, 11, 12, 13, 14, 15, 16, 17,\n",
       "       18, 19])"
      ]
     },
     "execution_count": 76,
     "metadata": {},
     "output_type": "execute_result"
    }
   ],
   "source": [
    "ar = np.arange(1,20)\n",
    "ar"
   ]
  },
  {
   "cell_type": "code",
   "execution_count": 78,
   "id": "f9bf09b6",
   "metadata": {},
   "outputs": [
    {
     "data": {
      "text/plain": [
       "array([ 1,  0,  3,  0,  5,  0,  7,  0,  9,  0, 11,  0, 13,  0, 15,  0, 17,\n",
       "        0, 19])"
      ]
     },
     "execution_count": 78,
     "metadata": {},
     "output_type": "execute_result"
    }
   ],
   "source": [
    "rep1 = np.where(ar % 2 == 0, 0, ar)\n",
    "rep1"
   ]
  },
  {
   "cell_type": "code",
   "execution_count": 79,
   "id": "3d3b240d",
   "metadata": {},
   "outputs": [
    {
     "data": {
      "text/plain": [
       "array([10, 20, 30, 10, 10, 20, 20])"
      ]
     },
     "execution_count": 79,
     "metadata": {},
     "output_type": "execute_result"
    }
   ],
   "source": [
    "ar2 = np.array([10,20,30,10,10,20,20])\n",
    "ar2"
   ]
  },
  {
   "cell_type": "code",
   "execution_count": 82,
   "id": "851bad68",
   "metadata": {},
   "outputs": [
    {
     "name": "stdout",
     "output_type": "stream",
     "text": [
      "[99 20 30 99 99 20 20]\n"
     ]
    }
   ],
   "source": [
    "rep2 = np.where(ar2 == 10, 99, ar2)\n",
    "print(rep2)"
   ]
  },
  {
   "cell_type": "code",
   "execution_count": 83,
   "id": "0ee0c45a",
   "metadata": {},
   "outputs": [
    {
     "data": {
      "text/plain": [
       "array([ 0, 10, 20, 30, 40, 50, 60, 70, 80, 90])"
      ]
     },
     "execution_count": 83,
     "metadata": {},
     "output_type": "execute_result"
    }
   ],
   "source": [
    "p2 = np.arange(0,100,10)\n",
    "p2"
   ]
  },
  {
   "cell_type": "code",
   "execution_count": 84,
   "id": "ae715d14",
   "metadata": {},
   "outputs": [
    {
     "data": {
      "text/plain": [
       "array([33, 10, 20, 55, 40, 99, 60, 70, 80, 90])"
      ]
     },
     "execution_count": 84,
     "metadata": {},
     "output_type": "execute_result"
    }
   ],
   "source": [
    "np.put(p2, [0,3,5], [33,55,99])\n",
    "p2"
   ]
  },
  {
   "cell_type": "code",
   "execution_count": 85,
   "id": "4963140b",
   "metadata": {},
   "outputs": [
    {
     "data": {
      "text/plain": [
       "array([10., nan, 20., 30., 60., nan, 90., inf])"
      ]
     },
     "execution_count": 85,
     "metadata": {},
     "output_type": "execute_result"
    }
   ],
   "source": [
    "a = np.array([10, np.nan, 20, 30, 60, np.nan, 90, np.inf])\n",
    "a"
   ]
  },
  {
   "cell_type": "code",
   "execution_count": 86,
   "id": "1ed92492",
   "metadata": {},
   "outputs": [
    {
     "data": {
      "text/plain": [
       "array([False,  True, False, False, False,  True, False, False])"
      ]
     },
     "execution_count": 86,
     "metadata": {},
     "output_type": "execute_result"
    }
   ],
   "source": [
    "np.isnan(a)"
   ]
  },
  {
   "cell_type": "code",
   "execution_count": 87,
   "id": "3448b890",
   "metadata": {},
   "outputs": [
    {
     "data": {
      "text/plain": [
       "(array([1, 5], dtype=int64),)"
      ]
     },
     "execution_count": 87,
     "metadata": {},
     "output_type": "execute_result"
    }
   ],
   "source": [
    "np.where(np.isnan(a))"
   ]
  },
  {
   "cell_type": "code",
   "execution_count": 90,
   "id": "166f4d12",
   "metadata": {},
   "outputs": [
    {
     "data": {
      "text/plain": [
       "array([10., 66., 20., 30., 60., 66., 90., inf])"
      ]
     },
     "execution_count": 90,
     "metadata": {},
     "output_type": "execute_result"
    }
   ],
   "source": [
    "a[np.isnan(a)] = 66\n",
    "a"
   ]
  },
  {
   "cell_type": "code",
   "execution_count": 91,
   "id": "d2e01e6f",
   "metadata": {},
   "outputs": [
    {
     "data": {
      "text/plain": [
       "False"
      ]
     },
     "execution_count": 91,
     "metadata": {},
     "output_type": "execute_result"
    }
   ],
   "source": [
    "np.isnan(a).any()"
   ]
  },
  {
   "cell_type": "code",
   "execution_count": 92,
   "id": "12c4caeb",
   "metadata": {},
   "outputs": [
    {
     "data": {
      "text/plain": [
       "array([[ 2.,  6., nan,  8.],\n",
       "       [nan,  6.,  7.,  9.],\n",
       "       [ 2., nan,  6.,  3.],\n",
       "       [15., 12.,  4., 11.]])"
      ]
     },
     "execution_count": 92,
     "metadata": {},
     "output_type": "execute_result"
    }
   ],
   "source": [
    "A = np.array([[2,6,np.nan,8],[np.nan,6,7,9],[2,np.nan,6,3],[15,12,4,11]])\n",
    "A"
   ]
  },
  {
   "cell_type": "code",
   "execution_count": 94,
   "id": "67b2a83b",
   "metadata": {},
   "outputs": [
    {
     "data": {
      "text/plain": [
       "array([[False, False,  True, False],\n",
       "       [ True, False, False, False],\n",
       "       [False,  True, False, False],\n",
       "       [False, False, False, False]])"
      ]
     },
     "execution_count": 94,
     "metadata": {},
     "output_type": "execute_result"
    }
   ],
   "source": [
    "np.isnan(A)"
   ]
  },
  {
   "cell_type": "code",
   "execution_count": 95,
   "id": "cc4e4600",
   "metadata": {},
   "outputs": [
    {
     "data": {
      "text/plain": [
       "(array([0, 1, 2], dtype=int64), array([2, 0, 1], dtype=int64))"
      ]
     },
     "execution_count": 95,
     "metadata": {},
     "output_type": "execute_result"
    }
   ],
   "source": [
    "np.where(np.isnan(A))"
   ]
  },
  {
   "cell_type": "code",
   "execution_count": null,
   "id": "829bdab8",
   "metadata": {},
   "outputs": [],
   "source": []
  }
 ],
 "metadata": {
  "kernelspec": {
   "display_name": "Python 3 (ipykernel)",
   "language": "python",
   "name": "python3"
  },
  "language_info": {
   "codemirror_mode": {
    "name": "ipython",
    "version": 3
   },
   "file_extension": ".py",
   "mimetype": "text/x-python",
   "name": "python",
   "nbconvert_exporter": "python",
   "pygments_lexer": "ipython3",
   "version": "3.9.7"
  }
 },
 "nbformat": 4,
 "nbformat_minor": 5
}
