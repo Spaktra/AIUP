{
 "cells": [
  {
   "cell_type": "code",
   "execution_count": 1,
   "id": "c6a7e0d1",
   "metadata": {},
   "outputs": [],
   "source": [
    "import pandas as pd\n",
    "import numpy as np\n",
    "import matplotlib.pyplot as plt\n",
    "from keras.layers import Input, Dense\n",
    "from keras.models import Model"
   ]
  },
  {
   "cell_type": "code",
   "execution_count": 2,
   "id": "6535abe7",
   "metadata": {},
   "outputs": [],
   "source": [
    "data = pd.read_csv('https://archive.ics.uci.edu/ml/machine-learning-databases/haberman/haberman.data',\n",
    "                  names = [\n",
    "                      'Age_of_patient',\n",
    "                      'year of operation',\n",
    "                      'positive_axillary_nodes',\n",
    "                      'Survival_status'\n",
    "                  ]\n",
    ")"
   ]
  },
  {
   "cell_type": "code",
   "execution_count": 3,
   "id": "5ead534f",
   "metadata": {},
   "outputs": [
    {
     "data": {
      "text/html": [
       "<div>\n",
       "<style scoped>\n",
       "    .dataframe tbody tr th:only-of-type {\n",
       "        vertical-align: middle;\n",
       "    }\n",
       "\n",
       "    .dataframe tbody tr th {\n",
       "        vertical-align: top;\n",
       "    }\n",
       "\n",
       "    .dataframe thead th {\n",
       "        text-align: right;\n",
       "    }\n",
       "</style>\n",
       "<table border=\"1\" class=\"dataframe\">\n",
       "  <thead>\n",
       "    <tr style=\"text-align: right;\">\n",
       "      <th></th>\n",
       "      <th>Age_of_patient</th>\n",
       "      <th>year of operation</th>\n",
       "      <th>positive_axillary_nodes</th>\n",
       "      <th>Survival_status</th>\n",
       "    </tr>\n",
       "  </thead>\n",
       "  <tbody>\n",
       "    <tr>\n",
       "      <th>0</th>\n",
       "      <td>30</td>\n",
       "      <td>64</td>\n",
       "      <td>1</td>\n",
       "      <td>1</td>\n",
       "    </tr>\n",
       "    <tr>\n",
       "      <th>1</th>\n",
       "      <td>30</td>\n",
       "      <td>62</td>\n",
       "      <td>3</td>\n",
       "      <td>1</td>\n",
       "    </tr>\n",
       "    <tr>\n",
       "      <th>2</th>\n",
       "      <td>30</td>\n",
       "      <td>65</td>\n",
       "      <td>0</td>\n",
       "      <td>1</td>\n",
       "    </tr>\n",
       "    <tr>\n",
       "      <th>3</th>\n",
       "      <td>31</td>\n",
       "      <td>59</td>\n",
       "      <td>2</td>\n",
       "      <td>1</td>\n",
       "    </tr>\n",
       "    <tr>\n",
       "      <th>4</th>\n",
       "      <td>31</td>\n",
       "      <td>65</td>\n",
       "      <td>4</td>\n",
       "      <td>1</td>\n",
       "    </tr>\n",
       "  </tbody>\n",
       "</table>\n",
       "</div>"
      ],
      "text/plain": [
       "   Age_of_patient  year of operation  positive_axillary_nodes  Survival_status\n",
       "0              30                 64                        1                1\n",
       "1              30                 62                        3                1\n",
       "2              30                 65                        0                1\n",
       "3              31                 59                        2                1\n",
       "4              31                 65                        4                1"
      ]
     },
     "execution_count": 3,
     "metadata": {},
     "output_type": "execute_result"
    }
   ],
   "source": [
    "data.head()"
   ]
  },
  {
   "cell_type": "code",
   "execution_count": 4,
   "id": "a82a34e4",
   "metadata": {},
   "outputs": [
    {
     "name": "stdout",
     "output_type": "stream",
     "text": [
      "(306, 4)\n"
     ]
    }
   ],
   "source": [
    "print(data.shape)"
   ]
  },
  {
   "cell_type": "code",
   "execution_count": 5,
   "id": "48b6d9dc",
   "metadata": {},
   "outputs": [],
   "source": [
    "X = data.drop('Survival_status', axis = 1)\n",
    "y = data['Survival_status']"
   ]
  },
  {
   "cell_type": "code",
   "execution_count": 8,
   "id": "6ac37bbc",
   "metadata": {},
   "outputs": [],
   "source": [
    "#Normalizasyon\n",
    "from sklearn.preprocessing import MinMaxScaler\n",
    "\n",
    "prcs = MinMaxScaler(feature_range = (0, 1))\n",
    "X = prcs.fit_transform(X)"
   ]
  },
  {
   "cell_type": "code",
   "execution_count": 9,
   "id": "328bdb51",
   "metadata": {},
   "outputs": [
    {
     "data": {
      "text/plain": [
       "3"
      ]
     },
     "execution_count": 9,
     "metadata": {},
     "output_type": "execute_result"
    }
   ],
   "source": [
    "X.shape[1]"
   ]
  },
  {
   "cell_type": "code",
   "execution_count": 10,
   "id": "71e15877",
   "metadata": {},
   "outputs": [],
   "source": [
    "feature_adedi = X.shape[1]\n",
    "giris_boyutu = Input(shape = (feature_adedi))\n",
    "\n",
    "bottleneck_shape = 2\n",
    "\n",
    "kodlayici = Dense(3, activation = 'relu')(giris_boyutu)\n",
    "kodlayici = Dense(3, activation = 'relu')(giris_boyutu)\n",
    "\n",
    "kodlayici = Dense(bottleneck_shape, activation = 'relu')(kodlayici)\n",
    "\n",
    "kod_cozucu = Dense(3, activation = 'relu')(kodlayici)\n",
    "kod_cozucu = Dense(feature_adedi, activation = 'sigmoid')(kodlayici)\n",
    "\n",
    "otokodlayici = Model(inputs = giris_boyutu, outputs = kod_cozucu)"
   ]
  },
  {
   "cell_type": "code",
   "execution_count": 11,
   "id": "085b952a",
   "metadata": {},
   "outputs": [
    {
     "name": "stdout",
     "output_type": "stream",
     "text": [
      "('You must install pydot (`pip install pydot`) and install graphviz (see instructions at https://graphviz.gitlab.io/download/) ', 'for plot_model/model_to_dot to work.')\n"
     ]
    }
   ],
   "source": [
    "import tensorflow as tf\n",
    "tf.keras.utils.plot_model(otokodlayici, 'haberman.jpg', show_shapes = True, show_layer_names = True)"
   ]
  },
  {
   "cell_type": "code",
   "execution_count": 12,
   "id": "b6254040",
   "metadata": {},
   "outputs": [
    {
     "name": "stdout",
     "output_type": "stream",
     "text": [
      "Epoch 1/100\n",
      "16/16 - 2s - loss: 0.1089 - val_loss: 0.1197 - 2s/epoch - 132ms/step\n",
      "Epoch 2/100\n",
      "16/16 - 0s - loss: 0.1073 - val_loss: 0.1190 - 43ms/epoch - 3ms/step\n",
      "Epoch 3/100\n",
      "16/16 - 0s - loss: 0.1058 - val_loss: 0.1184 - 40ms/epoch - 2ms/step\n",
      "Epoch 4/100\n",
      "16/16 - 0s - loss: 0.1043 - val_loss: 0.1178 - 43ms/epoch - 3ms/step\n",
      "Epoch 5/100\n",
      "16/16 - 0s - loss: 0.1028 - val_loss: 0.1172 - 44ms/epoch - 3ms/step\n",
      "Epoch 6/100\n",
      "16/16 - 0s - loss: 0.1014 - val_loss: 0.1166 - 41ms/epoch - 3ms/step\n",
      "Epoch 7/100\n",
      "16/16 - 0s - loss: 0.1000 - val_loss: 0.1161 - 41ms/epoch - 3ms/step\n",
      "Epoch 8/100\n",
      "16/16 - 0s - loss: 0.0986 - val_loss: 0.1156 - 39ms/epoch - 2ms/step\n",
      "Epoch 9/100\n",
      "16/16 - 0s - loss: 0.0973 - val_loss: 0.1151 - 47ms/epoch - 3ms/step\n",
      "Epoch 10/100\n",
      "16/16 - 0s - loss: 0.0960 - val_loss: 0.1146 - 38ms/epoch - 2ms/step\n",
      "Epoch 11/100\n",
      "16/16 - 0s - loss: 0.0947 - val_loss: 0.1141 - 39ms/epoch - 2ms/step\n",
      "Epoch 12/100\n",
      "16/16 - 0s - loss: 0.0935 - val_loss: 0.1136 - 43ms/epoch - 3ms/step\n",
      "Epoch 13/100\n",
      "16/16 - 0s - loss: 0.0923 - val_loss: 0.1132 - 40ms/epoch - 3ms/step\n",
      "Epoch 14/100\n",
      "16/16 - 0s - loss: 0.0911 - val_loss: 0.1128 - 45ms/epoch - 3ms/step\n",
      "Epoch 15/100\n",
      "16/16 - 0s - loss: 0.0900 - val_loss: 0.1124 - 45ms/epoch - 3ms/step\n",
      "Epoch 16/100\n",
      "16/16 - 0s - loss: 0.0889 - val_loss: 0.1120 - 60ms/epoch - 4ms/step\n",
      "Epoch 17/100\n",
      "16/16 - 0s - loss: 0.0878 - val_loss: 0.1116 - 43ms/epoch - 3ms/step\n",
      "Epoch 18/100\n",
      "16/16 - 0s - loss: 0.0868 - val_loss: 0.1112 - 44ms/epoch - 3ms/step\n",
      "Epoch 19/100\n",
      "16/16 - 0s - loss: 0.0857 - val_loss: 0.1109 - 48ms/epoch - 3ms/step\n",
      "Epoch 20/100\n",
      "16/16 - 0s - loss: 0.0847 - val_loss: 0.1104 - 39ms/epoch - 2ms/step\n",
      "Epoch 21/100\n",
      "16/16 - 0s - loss: 0.0838 - val_loss: 0.1101 - 44ms/epoch - 3ms/step\n",
      "Epoch 22/100\n",
      "16/16 - 0s - loss: 0.0828 - val_loss: 0.1098 - 45ms/epoch - 3ms/step\n",
      "Epoch 23/100\n",
      "16/16 - 0s - loss: 0.0819 - val_loss: 0.1095 - 48ms/epoch - 3ms/step\n",
      "Epoch 24/100\n",
      "16/16 - 0s - loss: 0.0810 - val_loss: 0.1092 - 43ms/epoch - 3ms/step\n",
      "Epoch 25/100\n",
      "16/16 - 0s - loss: 0.0801 - val_loss: 0.1088 - 39ms/epoch - 2ms/step\n",
      "Epoch 26/100\n",
      "16/16 - 0s - loss: 0.0793 - val_loss: 0.1085 - 40ms/epoch - 3ms/step\n",
      "Epoch 27/100\n",
      "16/16 - 0s - loss: 0.0784 - val_loss: 0.1082 - 38ms/epoch - 2ms/step\n",
      "Epoch 28/100\n",
      "16/16 - 0s - loss: 0.0776 - val_loss: 0.1079 - 40ms/epoch - 3ms/step\n",
      "Epoch 29/100\n",
      "16/16 - 0s - loss: 0.0769 - val_loss: 0.1076 - 44ms/epoch - 3ms/step\n",
      "Epoch 30/100\n",
      "16/16 - 0s - loss: 0.0761 - val_loss: 0.1073 - 42ms/epoch - 3ms/step\n",
      "Epoch 31/100\n",
      "16/16 - 0s - loss: 0.0753 - val_loss: 0.1071 - 47ms/epoch - 3ms/step\n",
      "Epoch 32/100\n",
      "16/16 - 0s - loss: 0.0746 - val_loss: 0.1068 - 44ms/epoch - 3ms/step\n",
      "Epoch 33/100\n",
      "16/16 - 0s - loss: 0.0739 - val_loss: 0.1065 - 42ms/epoch - 3ms/step\n",
      "Epoch 34/100\n",
      "16/16 - 0s - loss: 0.0732 - val_loss: 0.1063 - 47ms/epoch - 3ms/step\n",
      "Epoch 35/100\n",
      "16/16 - 0s - loss: 0.0725 - val_loss: 0.1060 - 39ms/epoch - 2ms/step\n",
      "Epoch 36/100\n",
      "16/16 - 0s - loss: 0.0718 - val_loss: 0.1058 - 38ms/epoch - 2ms/step\n",
      "Epoch 37/100\n",
      "16/16 - 0s - loss: 0.0712 - val_loss: 0.1055 - 42ms/epoch - 3ms/step\n",
      "Epoch 38/100\n",
      "16/16 - 0s - loss: 0.0706 - val_loss: 0.1052 - 45ms/epoch - 3ms/step\n",
      "Epoch 39/100\n",
      "16/16 - 0s - loss: 0.0700 - val_loss: 0.1050 - 45ms/epoch - 3ms/step\n",
      "Epoch 40/100\n",
      "16/16 - 0s - loss: 0.0694 - val_loss: 0.1048 - 44ms/epoch - 3ms/step\n",
      "Epoch 41/100\n",
      "16/16 - 0s - loss: 0.0688 - val_loss: 0.1045 - 43ms/epoch - 3ms/step\n",
      "Epoch 42/100\n",
      "16/16 - 0s - loss: 0.0682 - val_loss: 0.1043 - 47ms/epoch - 3ms/step\n",
      "Epoch 43/100\n",
      "16/16 - 0s - loss: 0.0677 - val_loss: 0.1041 - 48ms/epoch - 3ms/step\n",
      "Epoch 44/100\n",
      "16/16 - 0s - loss: 0.0671 - val_loss: 0.1038 - 47ms/epoch - 3ms/step\n",
      "Epoch 45/100\n",
      "16/16 - 0s - loss: 0.0666 - val_loss: 0.1036 - 46ms/epoch - 3ms/step\n",
      "Epoch 46/100\n",
      "16/16 - 0s - loss: 0.0661 - val_loss: 0.1035 - 42ms/epoch - 3ms/step\n",
      "Epoch 47/100\n",
      "16/16 - 0s - loss: 0.0656 - val_loss: 0.1033 - 45ms/epoch - 3ms/step\n",
      "Epoch 48/100\n",
      "16/16 - 0s - loss: 0.0651 - val_loss: 0.1031 - 45ms/epoch - 3ms/step\n",
      "Epoch 49/100\n",
      "16/16 - 0s - loss: 0.0646 - val_loss: 0.1028 - 38ms/epoch - 2ms/step\n",
      "Epoch 50/100\n",
      "16/16 - 0s - loss: 0.0642 - val_loss: 0.1026 - 40ms/epoch - 2ms/step\n",
      "Epoch 51/100\n",
      "16/16 - 0s - loss: 0.0637 - val_loss: 0.1023 - 40ms/epoch - 2ms/step\n",
      "Epoch 52/100\n",
      "16/16 - 0s - loss: 0.0633 - val_loss: 0.1021 - 48ms/epoch - 3ms/step\n",
      "Epoch 53/100\n",
      "16/16 - 0s - loss: 0.0628 - val_loss: 0.1019 - 42ms/epoch - 3ms/step\n",
      "Epoch 54/100\n",
      "16/16 - 0s - loss: 0.0624 - val_loss: 0.1018 - 47ms/epoch - 3ms/step\n",
      "Epoch 55/100\n",
      "16/16 - 0s - loss: 0.0620 - val_loss: 0.1015 - 39ms/epoch - 2ms/step\n",
      "Epoch 56/100\n",
      "16/16 - 0s - loss: 0.0616 - val_loss: 0.1013 - 38ms/epoch - 2ms/step\n",
      "Epoch 57/100\n",
      "16/16 - 0s - loss: 0.0612 - val_loss: 0.1011 - 45ms/epoch - 3ms/step\n",
      "Epoch 58/100\n",
      "16/16 - 0s - loss: 0.0608 - val_loss: 0.1009 - 53ms/epoch - 3ms/step\n",
      "Epoch 59/100\n",
      "16/16 - 0s - loss: 0.0605 - val_loss: 0.1007 - 46ms/epoch - 3ms/step\n",
      "Epoch 60/100\n",
      "16/16 - 0s - loss: 0.0601 - val_loss: 0.1005 - 49ms/epoch - 3ms/step\n",
      "Epoch 61/100\n",
      "16/16 - 0s - loss: 0.0597 - val_loss: 0.1004 - 45ms/epoch - 3ms/step\n",
      "Epoch 62/100\n",
      "16/16 - 0s - loss: 0.0594 - val_loss: 0.1001 - 45ms/epoch - 3ms/step\n",
      "Epoch 63/100\n",
      "16/16 - 0s - loss: 0.0590 - val_loss: 0.0999 - 44ms/epoch - 3ms/step\n",
      "Epoch 64/100\n",
      "16/16 - 0s - loss: 0.0587 - val_loss: 0.0997 - 45ms/epoch - 3ms/step\n",
      "Epoch 65/100\n",
      "16/16 - 0s - loss: 0.0584 - val_loss: 0.0996 - 44ms/epoch - 3ms/step\n",
      "Epoch 66/100\n",
      "16/16 - 0s - loss: 0.0581 - val_loss: 0.0993 - 39ms/epoch - 2ms/step\n",
      "Epoch 67/100\n",
      "16/16 - 0s - loss: 0.0578 - val_loss: 0.0991 - 42ms/epoch - 3ms/step\n",
      "Epoch 68/100\n",
      "16/16 - 0s - loss: 0.0575 - val_loss: 0.0988 - 41ms/epoch - 3ms/step\n",
      "Epoch 69/100\n",
      "16/16 - 0s - loss: 0.0572 - val_loss: 0.0987 - 42ms/epoch - 3ms/step\n",
      "Epoch 70/100\n",
      "16/16 - 0s - loss: 0.0569 - val_loss: 0.0985 - 41ms/epoch - 3ms/step\n",
      "Epoch 71/100\n",
      "16/16 - 0s - loss: 0.0566 - val_loss: 0.0984 - 42ms/epoch - 3ms/step\n",
      "Epoch 72/100\n",
      "16/16 - 0s - loss: 0.0563 - val_loss: 0.0981 - 41ms/epoch - 3ms/step\n",
      "Epoch 73/100\n",
      "16/16 - 0s - loss: 0.0560 - val_loss: 0.0980 - 46ms/epoch - 3ms/step\n",
      "Epoch 74/100\n",
      "16/16 - 0s - loss: 0.0558 - val_loss: 0.0978 - 41ms/epoch - 3ms/step\n",
      "Epoch 75/100\n",
      "16/16 - 0s - loss: 0.0555 - val_loss: 0.0976 - 39ms/epoch - 2ms/step\n",
      "Epoch 76/100\n",
      "16/16 - 0s - loss: 0.0552 - val_loss: 0.0974 - 39ms/epoch - 2ms/step\n",
      "Epoch 77/100\n",
      "16/16 - 0s - loss: 0.0550 - val_loss: 0.0972 - 41ms/epoch - 3ms/step\n",
      "Epoch 78/100\n",
      "16/16 - 0s - loss: 0.0547 - val_loss: 0.0970 - 42ms/epoch - 3ms/step\n",
      "Epoch 79/100\n",
      "16/16 - 0s - loss: 0.0545 - val_loss: 0.0968 - 41ms/epoch - 3ms/step\n",
      "Epoch 80/100\n",
      "16/16 - 0s - loss: 0.0543 - val_loss: 0.0966 - 39ms/epoch - 2ms/step\n",
      "Epoch 81/100\n",
      "16/16 - 0s - loss: 0.0541 - val_loss: 0.0965 - 39ms/epoch - 2ms/step\n",
      "Epoch 82/100\n",
      "16/16 - 0s - loss: 0.0538 - val_loss: 0.0963 - 49ms/epoch - 3ms/step\n",
      "Epoch 83/100\n",
      "16/16 - 0s - loss: 0.0536 - val_loss: 0.0962 - 44ms/epoch - 3ms/step\n",
      "Epoch 84/100\n",
      "16/16 - 0s - loss: 0.0534 - val_loss: 0.0961 - 42ms/epoch - 3ms/step\n",
      "Epoch 85/100\n",
      "16/16 - 0s - loss: 0.0532 - val_loss: 0.0959 - 37ms/epoch - 2ms/step\n",
      "Epoch 86/100\n",
      "16/16 - 0s - loss: 0.0530 - val_loss: 0.0958 - 38ms/epoch - 2ms/step\n",
      "Epoch 87/100\n",
      "16/16 - 0s - loss: 0.0528 - val_loss: 0.0956 - 36ms/epoch - 2ms/step\n",
      "Epoch 88/100\n",
      "16/16 - 0s - loss: 0.0526 - val_loss: 0.0955 - 37ms/epoch - 2ms/step\n",
      "Epoch 89/100\n",
      "16/16 - 0s - loss: 0.0524 - val_loss: 0.0952 - 37ms/epoch - 2ms/step\n",
      "Epoch 90/100\n",
      "16/16 - 0s - loss: 0.0522 - val_loss: 0.0950 - 44ms/epoch - 3ms/step\n",
      "Epoch 91/100\n",
      "16/16 - 0s - loss: 0.0520 - val_loss: 0.0950 - 40ms/epoch - 3ms/step\n",
      "Epoch 92/100\n",
      "16/16 - 0s - loss: 0.0518 - val_loss: 0.0949 - 45ms/epoch - 3ms/step\n",
      "Epoch 93/100\n",
      "16/16 - 0s - loss: 0.0517 - val_loss: 0.0947 - 39ms/epoch - 2ms/step\n",
      "Epoch 94/100\n",
      "16/16 - 0s - loss: 0.0515 - val_loss: 0.0945 - 40ms/epoch - 3ms/step\n",
      "Epoch 95/100\n",
      "16/16 - 0s - loss: 0.0513 - val_loss: 0.0944 - 36ms/epoch - 2ms/step\n",
      "Epoch 96/100\n",
      "16/16 - 0s - loss: 0.0512 - val_loss: 0.0943 - 39ms/epoch - 2ms/step\n",
      "Epoch 97/100\n",
      "16/16 - 0s - loss: 0.0510 - val_loss: 0.0941 - 38ms/epoch - 2ms/step\n",
      "Epoch 98/100\n",
      "16/16 - 0s - loss: 0.0509 - val_loss: 0.0939 - 39ms/epoch - 2ms/step\n",
      "Epoch 99/100\n",
      "16/16 - 0s - loss: 0.0507 - val_loss: 0.0938 - 37ms/epoch - 2ms/step\n",
      "Epoch 100/100\n",
      "16/16 - 0s - loss: 0.0506 - val_loss: 0.0937 - 47ms/epoch - 3ms/step\n"
     ]
    }
   ],
   "source": [
    "otokodlayici.compile(\n",
    "        loss = 'mse',\n",
    "        optimizer = 'adam',\n",
    ")\n",
    "\n",
    "history = otokodlayici.fit(\n",
    "        X,\n",
    "        X,\n",
    "        epochs = 100,\n",
    "        batch_size = 16,\n",
    "        verbose = 2,\n",
    "        validation_split = 0.2\n",
    ")\n"
   ]
  },
  {
   "cell_type": "code",
   "execution_count": 13,
   "id": "e30b5901",
   "metadata": {},
   "outputs": [
    {
     "data": {
      "image/png": "[encoded data removed]",
      "text/plain": [
       "<Figure size 432x288 with 1 Axes>"
      ]
     },
     "metadata": {
      "needs_background": "light"
     },
     "output_type": "display_data"
    }
   ],
   "source": [
    "plt.plot(history.history['loss'], '--')\n",
    "plt.plot(history.history['val_loss'])\n",
    "plt.title('Otokodlayıcı Modelde Eğitim Hatası')\n",
    "plt.ylabel('Hatalar')\n",
    "plt.xlabel('Devir Sayısı')\n",
    "plt.legend(['Eğitim hatası','Doğrulama hatası'], loc = 'upper right')\n",
    "plt.show()"
   ]
  },
  {
   "cell_type": "code",
   "execution_count": 18,
   "id": "4f15c3a6",
   "metadata": {},
   "outputs": [
    {
     "name": "stderr",
     "output_type": "stream",
     "text": [
      "D:\\anaconda3\\lib\\site-packages\\numpy\\core\\_methods.py:163: VisibleDeprecationWarning: Creating an ndarray from ragged nested sequences (which is a list-or-tuple of lists-or-tuples-or ndarrays with different lengths or shapes) is deprecated. If you meant to do this, you must specify 'dtype=object' when creating the ndarray.\n",
      "  arr = asanyarray(a)\n"
     ]
    },
    {
     "data": {
      "image/png": "[encoded data removed]",
      "text/plain": [
       "<Figure size 432x288 with 1 Axes>"
      ]
     },
     "metadata": {
      "needs_background": "light"
     },
     "output_type": "display_data"
    }
   ],
   "source": [
    "estimates = otokodlayici.predict(X)\n",
    "mse = np.mean((X - estimates, 2), axis = 0)\n",
    "\n",
    "plt.plot(mse, linewidth = 0, marker = '.')\n",
    "plt.title('Reconstruction errors')\n",
    "plt.ylabel('mse')\n",
    "plt.xlabel('Gözlemler')\n",
    "plt.show()"
   ]
  },
  {
   "cell_type": "code",
   "execution_count": 19,
   "id": "7f101c7c",
   "metadata": {},
   "outputs": [
    {
     "name": "stdout",
     "output_type": "stream",
     "text": [
      "\n",
      " Eşik değeri giriniz: \n",
      "\n",
      "1.2\n"
     ]
    }
   ],
   "source": [
    "print(\"\\n Eşik değeri giriniz: \\n\")\n",
    "eşik = float(input())"
   ]
  },
  {
   "cell_type": "code",
   "execution_count": 22,
   "id": "6af75b4f",
   "metadata": {},
   "outputs": [
    {
     "data": {
      "image/png": "[encoded data removed]",
      "text/plain": [
       "<Figure size 432x288 with 1 Axes>"
      ]
     },
     "metadata": {
      "needs_background": "light"
     },
     "output_type": "display_data"
    }
   ],
   "source": [
    "plt.close()\n",
    "plt.plot(mse, linewidth = 0, marker = '.')\n",
    "plt.title('Reconstruction errors')\n",
    "plt.ylabel('mse')\n",
    "plt.xlabel('Gözlemler')\n",
    "plt.axhline(y = eşik, color = 'r')\n",
    "plt.show()"
   ]
  },
  {
   "cell_type": "code",
   "execution_count": 23,
   "id": "fad8de3c",
   "metadata": {},
   "outputs": [
    {
     "name": "stdout",
     "output_type": "stream",
     "text": [
      "Anormal değerlerin sayısı (48, 4)\n"
     ]
    }
   ],
   "source": [
    "anormal = pd.DataFrame(data[mse > eşik])\n",
    "print('Anormal değerlerin sayısı', anormal.shape)"
   ]
  },
  {
   "cell_type": "code",
   "execution_count": 24,
   "id": "01ddb6a4",
   "metadata": {},
   "outputs": [
    {
     "name": "stdout",
     "output_type": "stream",
     "text": [
      "Anormal değerler : \n",
      "      Age_of_patient  year of operation  positive_axillary_nodes  \\\n",
      "17               36                 69                        0   \n",
      "24               38                 69                       21   \n",
      "50               41                 69                        8   \n",
      "53               42                 69                        1   \n",
      "62               43                 58                       52   \n",
      "87               45                 68                        0   \n",
      "90               46                 69                        3   \n",
      "105              47                 68                        4   \n",
      "142              52                 69                        3   \n",
      "148              52                 69                        0   \n",
      "155              52                 68                        0   \n",
      "170              54                 68                        7   \n",
      "174              54                 67                       46   \n",
      "176              54                 69                        7   \n",
      "181              55                 68                       15   \n",
      "187              55                 69                        3   \n",
      "188              55                 69                       22   \n",
      "201              57                 69                        0   \n",
      "215              59                 62                       35   \n",
      "231              61                 68                        1   \n",
      "236              61                 68                        0   \n",
      "257              64                 68                        0   \n",
      "272              66                 68                        0   \n",
      "280              68                 68                        0   \n",
      "285              70                 58                        0   \n",
      "286              70                 58                        4   \n",
      "287              70                 66                       14   \n",
      "288              70                 67                        0   \n",
      "289              70                 68                        0   \n",
      "289              70                 68                        0   \n",
      "290              70                 59                        8   \n",
      "291              70                 63                        0   \n",
      "292              71                 68                        2   \n",
      "292              71                 68                        2   \n",
      "293              72                 63                        0   \n",
      "294              72                 58                        0   \n",
      "295              72                 64                        0   \n",
      "296              72                 67                        3   \n",
      "297              73                 62                        0   \n",
      "298              73                 68                        0   \n",
      "298              73                 68                        0   \n",
      "299              74                 65                        3   \n",
      "300              74                 63                        0   \n",
      "301              75                 62                        1   \n",
      "302              76                 67                        0   \n",
      "303              77                 65                        3   \n",
      "304              78                 65                        1   \n",
      "305              83                 58                        2   \n",
      "\n",
      "     Survival_status  \n",
      "17                 1  \n",
      "24                 2  \n",
      "50                 1  \n",
      "53                 2  \n",
      "62                 2  \n",
      "87                 1  \n",
      "90                 2  \n",
      "105                1  \n",
      "142                2  \n",
      "148                1  \n",
      "155                1  \n",
      "170                2  \n",
      "174                1  \n",
      "176                1  \n",
      "181                2  \n",
      "187                1  \n",
      "188                1  \n",
      "201                1  \n",
      "215                2  \n",
      "231                2  \n",
      "236                1  \n",
      "257                1  \n",
      "272                1  \n",
      "280                1  \n",
      "285                2  \n",
      "286                2  \n",
      "287                1  \n",
      "288                1  \n",
      "289                1  \n",
      "289                1  \n",
      "290                1  \n",
      "291                1  \n",
      "292                1  \n",
      "292                1  \n",
      "293                2  \n",
      "294                1  \n",
      "295                1  \n",
      "296                1  \n",
      "297                1  \n",
      "298                1  \n",
      "298                1  \n",
      "299                2  \n",
      "300                1  \n",
      "301                1  \n",
      "302                1  \n",
      "303                1  \n",
      "304                2  \n",
      "305                2  \n"
     ]
    }
   ],
   "source": [
    "print('Anormal değerler : \\n', anormal)"
   ]
  },
  {
   "cell_type": "code",
   "execution_count": 30,
   "id": "83b40008",
   "metadata": {},
   "outputs": [
    {
     "name": "stdout",
     "output_type": "stream",
     "text": [
      "Önceki veri :  (306, 3)\n"
     ]
    }
   ],
   "source": [
    "anormal_yok = pd.DataFrame(data[mse <= eşik])\n",
    "print ('Önceki veri : ', X.shape)"
   ]
  },
  {
   "cell_type": "code",
   "execution_count": 31,
   "id": "2a854766",
   "metadata": {},
   "outputs": [
    {
     "name": "stdout",
     "output_type": "stream",
     "text": [
      "Yeni veri : (870, 4)\n"
     ]
    }
   ],
   "source": [
    "print('Yeni veri :', anormal_yok.shape)"
   ]
  },
  {
   "cell_type": "code",
   "execution_count": 32,
   "id": "8e08adf1",
   "metadata": {},
   "outputs": [],
   "source": [
    "çıkış = pd.DataFrame(anormal_yok)\n",
    "çıkış.to_csv('haberman_yeni.csv', index = False)"
   ]
  },
  {
   "cell_type": "code",
   "execution_count": null,
   "id": "d2265a28",
   "metadata": {},
   "outputs": [],
   "source": []
  }
 ],
 "metadata": {
  "kernelspec": {
   "display_name": "Python 3 (ipykernel)",
   "language": "python",
   "name": "python3"
  },
  "language_info": {
   "codemirror_mode": {
    "name": "ipython",
    "version": 3
   },
   "file_extension": ".py",
   "mimetype": "text/x-python",
   "name": "python",
   "nbconvert_exporter": "python",
   "pygments_lexer": "ipython3",
   "version": "3.9.7"
  }
 },
 "nbformat": 4,
 "nbformat_minor": 5
}
